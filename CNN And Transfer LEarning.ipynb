{
 "cells": [
  {
   "cell_type": "markdown",
   "metadata": {},
   "source": [
    "## Creating CNN Using Scratch And Transfer Learning"
   ]
  },
  {
   "cell_type": "markdown",
   "metadata": {},
   "source": [
    "Please download the dataset from the below url"
   ]
  },
  {
   "cell_type": "code",
   "execution_count": 1,
   "metadata": {},
   "outputs": [],
   "source": [
    "# import the libraries as shown below\n",
    "\n",
    "from tensorflow.keras.layers import Input, Lambda, Dense, Flatten,Conv2D\n",
    "from tensorflow.keras.models import Model\n",
    "from tensorflow.keras.applications.vgg19 import VGG19\n",
    "from tensorflow.keras.applications.resnet50 import preprocess_input\n",
    "from tensorflow.keras.preprocessing import image\n",
    "from tensorflow.keras.preprocessing.image import ImageDataGenerator,load_img\n",
    "from tensorflow.keras.models import Sequential\n",
    "import numpy as np\n",
    "from glob import glob\n",
    "import matplotlib.pyplot as plt"
   ]
  },
  {
   "cell_type": "code",
   "execution_count": 2,
   "metadata": {},
   "outputs": [],
   "source": [
    "# re-size all the images to this\n",
    "IMAGE_SIZE = [224, 224]\n",
    "\n",
    "train_path = 'cell_images/Train'\n",
    "valid_path = 'cell_images/Test'\n"
   ]
  },
  {
   "cell_type": "code",
   "execution_count": 3,
   "metadata": {},
   "outputs": [
    {
     "name": "stdout",
     "output_type": "stream",
     "text": [
      "Downloading data from https://storage.googleapis.com/tensorflow/keras-applications/vgg19/vgg19_weights_tf_dim_ordering_tf_kernels_notop.h5\n",
      "80142336/80134624 [==============================] - 8s 0us/step\n",
      "80150528/80134624 [==============================] - 8s 0us/step\n"
     ]
    }
   ],
   "source": [
    "# Import the Vgg 16 library as shown below and add preprocessing layer to the front of VGG\n",
    "# Here we will be using imagenet weights\n",
    "\n",
    "mobilnet = VGG19(input_shape=IMAGE_SIZE + [3], weights='imagenet', include_top=False)\n",
    "\n",
    "\n"
   ]
  },
  {
   "cell_type": "code",
   "execution_count": 4,
   "metadata": {},
   "outputs": [],
   "source": [
    "# don't train existing weights\n",
    "for layer in mobilnet.layers:\n",
    "    layer.trainable = False"
   ]
  },
  {
   "cell_type": "code",
   "execution_count": 5,
   "metadata": {},
   "outputs": [],
   "source": [
    "  # useful for getting number of output classes\n",
    "folders = glob('Dataset/Train/*')"
   ]
  },
  {
   "cell_type": "code",
   "execution_count": 6,
   "metadata": {},
   "outputs": [
    {
     "data": {
      "text/plain": [
       "['Dataset/Train/Parasite', 'Dataset/Train/Uninfected']"
      ]
     },
     "execution_count": 6,
     "metadata": {},
     "output_type": "execute_result"
    }
   ],
   "source": [
    "folders"
   ]
  },
  {
   "cell_type": "code",
   "execution_count": 7,
   "metadata": {},
   "outputs": [],
   "source": [
    "# our layers - you can add more if you want\n",
    "x = Flatten()(mobilnet.output)"
   ]
  },
  {
   "cell_type": "code",
   "execution_count": 8,
   "metadata": {},
   "outputs": [],
   "source": [
    "prediction = Dense(len(folders), activation='softmax')(x)\n",
    "\n",
    "# create a model object\n",
    "model = Model(inputs=mobilnet.input, outputs=prediction)"
   ]
  },
  {
   "cell_type": "code",
   "execution_count": 9,
   "metadata": {},
   "outputs": [
    {
     "name": "stdout",
     "output_type": "stream",
     "text": [
      "Model: \"model\"\n",
      "_________________________________________________________________\n",
      "Layer (type)                 Output Shape              Param #   \n",
      "=================================================================\n",
      "input_1 (InputLayer)         [(None, 224, 224, 3)]     0         \n",
      "_________________________________________________________________\n",
      "block1_conv1 (Conv2D)        (None, 224, 224, 64)      1792      \n",
      "_________________________________________________________________\n",
      "block1_conv2 (Conv2D)        (None, 224, 224, 64)      36928     \n",
      "_________________________________________________________________\n",
      "block1_pool (MaxPooling2D)   (None, 112, 112, 64)      0         \n",
      "_________________________________________________________________\n",
      "block2_conv1 (Conv2D)        (None, 112, 112, 128)     73856     \n",
      "_________________________________________________________________\n",
      "block2_conv2 (Conv2D)        (None, 112, 112, 128)     147584    \n",
      "_________________________________________________________________\n",
      "block2_pool (MaxPooling2D)   (None, 56, 56, 128)       0         \n",
      "_________________________________________________________________\n",
      "block3_conv1 (Conv2D)        (None, 56, 56, 256)       295168    \n",
      "_________________________________________________________________\n",
      "block3_conv2 (Conv2D)        (None, 56, 56, 256)       590080    \n",
      "_________________________________________________________________\n",
      "block3_conv3 (Conv2D)        (None, 56, 56, 256)       590080    \n",
      "_________________________________________________________________\n",
      "block3_conv4 (Conv2D)        (None, 56, 56, 256)       590080    \n",
      "_________________________________________________________________\n",
      "block3_pool (MaxPooling2D)   (None, 28, 28, 256)       0         \n",
      "_________________________________________________________________\n",
      "block4_conv1 (Conv2D)        (None, 28, 28, 512)       1180160   \n",
      "_________________________________________________________________\n",
      "block4_conv2 (Conv2D)        (None, 28, 28, 512)       2359808   \n",
      "_________________________________________________________________\n",
      "block4_conv3 (Conv2D)        (None, 28, 28, 512)       2359808   \n",
      "_________________________________________________________________\n",
      "block4_conv4 (Conv2D)        (None, 28, 28, 512)       2359808   \n",
      "_________________________________________________________________\n",
      "block4_pool (MaxPooling2D)   (None, 14, 14, 512)       0         \n",
      "_________________________________________________________________\n",
      "block5_conv1 (Conv2D)        (None, 14, 14, 512)       2359808   \n",
      "_________________________________________________________________\n",
      "block5_conv2 (Conv2D)        (None, 14, 14, 512)       2359808   \n",
      "_________________________________________________________________\n",
      "block5_conv3 (Conv2D)        (None, 14, 14, 512)       2359808   \n",
      "_________________________________________________________________\n",
      "block5_conv4 (Conv2D)        (None, 14, 14, 512)       2359808   \n",
      "_________________________________________________________________\n",
      "block5_pool (MaxPooling2D)   (None, 7, 7, 512)         0         \n",
      "_________________________________________________________________\n",
      "flatten (Flatten)            (None, 25088)             0         \n",
      "_________________________________________________________________\n",
      "dense (Dense)                (None, 2)                 50178     \n",
      "=================================================================\n",
      "Total params: 20,074,562\n",
      "Trainable params: 50,178\n",
      "Non-trainable params: 20,024,384\n",
      "_________________________________________________________________\n"
     ]
    }
   ],
   "source": [
    "\n",
    "# view the structure of the model\n",
    "model.summary()\n"
   ]
  },
  {
   "cell_type": "code",
   "execution_count": 10,
   "metadata": {},
   "outputs": [],
   "source": [
    "from tensorflow.keras.layers import MaxPooling2D"
   ]
  },
  {
   "cell_type": "code",
   "execution_count": 11,
   "metadata": {},
   "outputs": [
    {
     "name": "stdout",
     "output_type": "stream",
     "text": [
      "Model: \"sequential\"\n",
      "_________________________________________________________________\n",
      "Layer (type)                 Output Shape              Param #   \n",
      "=================================================================\n",
      "conv2d (Conv2D)              (None, 224, 224, 16)      208       \n",
      "_________________________________________________________________\n",
      "max_pooling2d (MaxPooling2D) (None, 112, 112, 16)      0         \n",
      "_________________________________________________________________\n",
      "conv2d_1 (Conv2D)            (None, 112, 112, 32)      2080      \n",
      "_________________________________________________________________\n",
      "max_pooling2d_1 (MaxPooling2 (None, 56, 56, 32)        0         \n",
      "_________________________________________________________________\n",
      "conv2d_2 (Conv2D)            (None, 56, 56, 64)        8256      \n",
      "_________________________________________________________________\n",
      "max_pooling2d_2 (MaxPooling2 (None, 28, 28, 64)        0         \n",
      "_________________________________________________________________\n",
      "flatten_1 (Flatten)          (None, 50176)             0         \n",
      "_________________________________________________________________\n",
      "dense_1 (Dense)              (None, 500)               25088500  \n",
      "_________________________________________________________________\n",
      "dense_2 (Dense)              (None, 2)                 1002      \n",
      "=================================================================\n",
      "Total params: 25,100,046\n",
      "Trainable params: 25,100,046\n",
      "Non-trainable params: 0\n",
      "_________________________________________________________________\n"
     ]
    }
   ],
   "source": [
    "### Create Model from scratch using CNN\n",
    "model=Sequential()\n",
    "model.add(Conv2D(filters=16,kernel_size=2,padding=\"same\",activation=\"relu\",input_shape=(224,224,3)))\n",
    "model.add(MaxPooling2D(pool_size=2))\n",
    "model.add(Conv2D(filters=32,kernel_size=2,padding=\"same\",activation =\"relu\"))\n",
    "model.add(MaxPooling2D(pool_size=2))\n",
    "model.add(Conv2D(filters=64,kernel_size=2,padding=\"same\",activation=\"relu\"))\n",
    "model.add(MaxPooling2D(pool_size=2))\n",
    "model.add(Flatten())\n",
    "model.add(Dense(500,activation=\"relu\"))\n",
    "model.add(Dense(2,activation=\"softmax\"))\n",
    "model.summary()"
   ]
  },
  {
   "cell_type": "code",
   "execution_count": 12,
   "metadata": {},
   "outputs": [],
   "source": [
    "# tell the model what cost and optimization method to use\n",
    "model.compile(\n",
    "  loss='categorical_crossentropy',\n",
    "  optimizer='adam',\n",
    "  metrics=['accuracy']\n",
    ")\n"
   ]
  },
  {
   "cell_type": "code",
   "execution_count": 13,
   "metadata": {},
   "outputs": [],
   "source": [
    "# Use the Image Data Generator to import the images from the dataset\n",
    "from tensorflow.keras.preprocessing.image import ImageDataGenerator\n",
    "\n",
    "train_datagen = ImageDataGenerator(rescale = 1./255,\n",
    "                                   shear_range = 0.2,\n",
    "                                   zoom_range = 0.2,\n",
    "                                   horizontal_flip = True)\n",
    "\n",
    "test_datagen = ImageDataGenerator(rescale = 1./255)"
   ]
  },
  {
   "cell_type": "code",
   "execution_count": 14,
   "metadata": {},
   "outputs": [
    {
     "name": "stdout",
     "output_type": "stream",
     "text": [
      "Found 416 images belonging to 2 classes.\n"
     ]
    }
   ],
   "source": [
    "# Make sure you provide the same target size as initialied for the image size\n",
    "training_set = train_datagen.flow_from_directory('Dataset/Train',\n",
    "                                                 target_size = (224, 224),\n",
    "                                                 batch_size = 32,\n",
    "                                                 class_mode = 'categorical')"
   ]
  },
  {
   "cell_type": "code",
   "execution_count": 15,
   "metadata": {},
   "outputs": [
    {
     "data": {
      "text/plain": [
       "<keras.preprocessing.image.DirectoryIterator at 0x7fc5da0bdb80>"
      ]
     },
     "execution_count": 15,
     "metadata": {},
     "output_type": "execute_result"
    }
   ],
   "source": [
    "training_set"
   ]
  },
  {
   "cell_type": "code",
   "execution_count": 16,
   "metadata": {},
   "outputs": [
    {
     "name": "stdout",
     "output_type": "stream",
     "text": [
      "Found 134 images belonging to 2 classes.\n"
     ]
    }
   ],
   "source": [
    "test_set = test_datagen.flow_from_directory('Dataset/Test',\n",
    "                                            target_size = (224, 224),\n",
    "                                            batch_size = 32,\n",
    "                                            class_mode = 'categorical')"
   ]
  },
  {
   "cell_type": "code",
   "execution_count": 18,
   "metadata": {
    "scrolled": true
   },
   "outputs": [
    {
     "name": "stderr",
     "output_type": "stream",
     "text": [
      "/opt/anaconda3/lib/python3.8/site-packages/keras/engine/training.py:1972: UserWarning: `Model.fit_generator` is deprecated and will be removed in a future version. Please use `Model.fit`, which supports generators.\n",
      "  warnings.warn('`Model.fit_generator` is deprecated and '\n"
     ]
    },
    {
     "name": "stdout",
     "output_type": "stream",
     "text": [
      "Epoch 1/50\n",
      "13/13 [==============================] - 7s 458ms/step - loss: 1.7327 - accuracy: 0.4976 - val_loss: 0.6847 - val_accuracy: 0.6194\n",
      "Epoch 2/50\n",
      "13/13 [==============================] - 6s 460ms/step - loss: 0.5972 - accuracy: 0.6755 - val_loss: 0.7441 - val_accuracy: 0.4104\n",
      "Epoch 3/50\n",
      "13/13 [==============================] - 6s 466ms/step - loss: 0.4765 - accuracy: 0.7933 - val_loss: 0.9454 - val_accuracy: 0.3358\n",
      "Epoch 4/50\n",
      "13/13 [==============================] - 6s 444ms/step - loss: 0.5197 - accuracy: 0.7476 - val_loss: 0.8303 - val_accuracy: 0.6716\n",
      "Epoch 5/50\n",
      "13/13 [==============================] - 6s 449ms/step - loss: 0.5025 - accuracy: 0.7356 - val_loss: 1.0528 - val_accuracy: 0.3657\n",
      "Epoch 6/50\n",
      "13/13 [==============================] - 6s 462ms/step - loss: 0.4682 - accuracy: 0.7716 - val_loss: 0.8041 - val_accuracy: 0.3955\n",
      "Epoch 7/50\n",
      "13/13 [==============================] - 6s 457ms/step - loss: 0.4304 - accuracy: 0.8077 - val_loss: 0.9540 - val_accuracy: 0.4328\n",
      "Epoch 8/50\n",
      "13/13 [==============================] - 6s 481ms/step - loss: 0.4238 - accuracy: 0.8149 - val_loss: 0.7205 - val_accuracy: 0.5448\n",
      "Epoch 9/50\n",
      "13/13 [==============================] - 6s 455ms/step - loss: 0.3572 - accuracy: 0.8486 - val_loss: 0.7311 - val_accuracy: 0.5000\n",
      "Epoch 10/50\n",
      "13/13 [==============================] - 6s 449ms/step - loss: 0.3577 - accuracy: 0.8486 - val_loss: 0.6583 - val_accuracy: 0.5970\n",
      "Epoch 11/50\n",
      "13/13 [==============================] - 6s 438ms/step - loss: 0.3564 - accuracy: 0.8606 - val_loss: 0.8632 - val_accuracy: 0.5075\n",
      "Epoch 12/50\n",
      "13/13 [==============================] - 6s 459ms/step - loss: 0.3196 - accuracy: 0.8726 - val_loss: 0.8851 - val_accuracy: 0.4776\n",
      "Epoch 13/50\n",
      "13/13 [==============================] - 6s 444ms/step - loss: 0.3116 - accuracy: 0.8582 - val_loss: 0.9846 - val_accuracy: 0.4776\n",
      "Epoch 14/50\n",
      "13/13 [==============================] - 6s 461ms/step - loss: 0.2517 - accuracy: 0.8990 - val_loss: 0.8532 - val_accuracy: 0.5448\n",
      "Epoch 15/50\n",
      "13/13 [==============================] - 6s 461ms/step - loss: 0.2257 - accuracy: 0.9014 - val_loss: 0.6924 - val_accuracy: 0.5970\n",
      "Epoch 16/50\n",
      "13/13 [==============================] - 6s 480ms/step - loss: 0.1968 - accuracy: 0.9255 - val_loss: 0.6641 - val_accuracy: 0.6269\n",
      "Epoch 17/50\n",
      "13/13 [==============================] - 6s 461ms/step - loss: 0.1945 - accuracy: 0.9303 - val_loss: 0.4206 - val_accuracy: 0.7463\n",
      "Epoch 18/50\n",
      "13/13 [==============================] - 7s 516ms/step - loss: 0.2088 - accuracy: 0.9207 - val_loss: 0.5651 - val_accuracy: 0.7239\n",
      "Epoch 19/50\n",
      "13/13 [==============================] - 7s 527ms/step - loss: 0.1910 - accuracy: 0.9279 - val_loss: 0.6560 - val_accuracy: 0.6418\n",
      "Epoch 20/50\n",
      "13/13 [==============================] - 7s 527ms/step - loss: 0.1751 - accuracy: 0.9423 - val_loss: 0.6678 - val_accuracy: 0.6269\n",
      "Epoch 21/50\n",
      "13/13 [==============================] - 7s 494ms/step - loss: 0.1738 - accuracy: 0.9303 - val_loss: 0.5339 - val_accuracy: 0.7313\n",
      "Epoch 22/50\n",
      "13/13 [==============================] - 6s 481ms/step - loss: 0.1576 - accuracy: 0.9375 - val_loss: 0.6821 - val_accuracy: 0.6940\n",
      "Epoch 23/50\n",
      "13/13 [==============================] - 7s 520ms/step - loss: 0.1573 - accuracy: 0.9351 - val_loss: 0.5455 - val_accuracy: 0.7164\n",
      "Epoch 24/50\n",
      "13/13 [==============================] - 6s 472ms/step - loss: 0.1277 - accuracy: 0.9615 - val_loss: 0.5034 - val_accuracy: 0.7463\n",
      "Epoch 25/50\n",
      "13/13 [==============================] - 6s 453ms/step - loss: 0.1416 - accuracy: 0.9447 - val_loss: 0.4298 - val_accuracy: 0.7910\n",
      "Epoch 26/50\n",
      "13/13 [==============================] - 6s 441ms/step - loss: 0.1909 - accuracy: 0.9351 - val_loss: 0.2994 - val_accuracy: 0.8582\n",
      "Epoch 27/50\n",
      "13/13 [==============================] - 6s 460ms/step - loss: 0.0958 - accuracy: 0.9639 - val_loss: 0.5051 - val_accuracy: 0.8134\n",
      "Epoch 28/50\n",
      "13/13 [==============================] - 6s 450ms/step - loss: 0.1786 - accuracy: 0.9423 - val_loss: 0.3281 - val_accuracy: 0.8582\n",
      "Epoch 29/50\n",
      "13/13 [==============================] - 6s 458ms/step - loss: 0.1312 - accuracy: 0.9688 - val_loss: 0.3710 - val_accuracy: 0.8507\n",
      "Epoch 30/50\n",
      "13/13 [==============================] - 6s 470ms/step - loss: 0.1193 - accuracy: 0.9567 - val_loss: 0.4283 - val_accuracy: 0.8209\n",
      "Epoch 31/50\n",
      "13/13 [==============================] - 7s 512ms/step - loss: 0.1306 - accuracy: 0.9639 - val_loss: 0.2534 - val_accuracy: 0.8881\n",
      "Epoch 32/50\n",
      "13/13 [==============================] - 7s 498ms/step - loss: 0.0838 - accuracy: 0.9639 - val_loss: 0.1948 - val_accuracy: 0.9328\n",
      "Epoch 33/50\n",
      "13/13 [==============================] - 8s 563ms/step - loss: 0.0612 - accuracy: 0.9808 - val_loss: 0.2422 - val_accuracy: 0.9179\n",
      "Epoch 34/50\n",
      "13/13 [==============================] - 7s 498ms/step - loss: 0.0640 - accuracy: 0.9808 - val_loss: 0.1974 - val_accuracy: 0.9328\n",
      "Epoch 35/50\n",
      "13/13 [==============================] - 6s 479ms/step - loss: 0.0411 - accuracy: 0.9928 - val_loss: 0.4290 - val_accuracy: 0.8433\n",
      "Epoch 36/50\n",
      "13/13 [==============================] - 7s 525ms/step - loss: 0.1018 - accuracy: 0.9615 - val_loss: 0.3600 - val_accuracy: 0.8582\n",
      "Epoch 37/50\n",
      "13/13 [==============================] - 7s 540ms/step - loss: 0.0901 - accuracy: 0.9760 - val_loss: 0.2878 - val_accuracy: 0.8731\n",
      "Epoch 38/50\n",
      "13/13 [==============================] - 8s 567ms/step - loss: 0.0627 - accuracy: 0.9856 - val_loss: 0.2285 - val_accuracy: 0.8955\n",
      "Epoch 39/50\n",
      "13/13 [==============================] - 8s 583ms/step - loss: 0.0470 - accuracy: 0.9832 - val_loss: 0.3418 - val_accuracy: 0.8806\n",
      "Epoch 40/50\n",
      "13/13 [==============================] - 7s 521ms/step - loss: 0.1201 - accuracy: 0.9688 - val_loss: 0.1796 - val_accuracy: 0.9254\n",
      "Epoch 41/50\n",
      "13/13 [==============================] - 7s 546ms/step - loss: 0.0603 - accuracy: 0.9808 - val_loss: 0.3364 - val_accuracy: 0.8731\n",
      "Epoch 42/50\n",
      "13/13 [==============================] - 8s 604ms/step - loss: 0.0476 - accuracy: 0.9856 - val_loss: 0.1724 - val_accuracy: 0.9104\n",
      "Epoch 43/50\n",
      "13/13 [==============================] - 8s 587ms/step - loss: 0.0509 - accuracy: 0.9832 - val_loss: 0.1884 - val_accuracy: 0.9179\n",
      "Epoch 44/50\n",
      "13/13 [==============================] - 8s 602ms/step - loss: 0.0558 - accuracy: 0.9928 - val_loss: 0.2202 - val_accuracy: 0.9104\n",
      "Epoch 45/50\n",
      "13/13 [==============================] - 8s 637ms/step - loss: 0.0412 - accuracy: 0.9880 - val_loss: 0.1955 - val_accuracy: 0.9179\n",
      "Epoch 46/50\n",
      "13/13 [==============================] - 7s 529ms/step - loss: 0.0419 - accuracy: 0.9880 - val_loss: 0.7540 - val_accuracy: 0.8507\n",
      "Epoch 47/50\n",
      "13/13 [==============================] - 8s 625ms/step - loss: 0.0492 - accuracy: 0.9880 - val_loss: 0.5429 - val_accuracy: 0.8358\n",
      "Epoch 48/50\n",
      "13/13 [==============================] - 8s 597ms/step - loss: 0.0699 - accuracy: 0.9808 - val_loss: 0.2613 - val_accuracy: 0.9030\n",
      "Epoch 49/50\n",
      "13/13 [==============================] - 8s 596ms/step - loss: 0.0405 - accuracy: 0.9856 - val_loss: 0.2147 - val_accuracy: 0.9403\n",
      "Epoch 50/50\n",
      "13/13 [==============================] - 8s 606ms/step - loss: 0.0444 - accuracy: 0.9928 - val_loss: 0.2395 - val_accuracy: 0.9179\n"
     ]
    }
   ],
   "source": [
    "# fit the model\n",
    "# Run the cell. It will take some time to execute\n",
    "r = model.fit_generator(\n",
    "  training_set,\n",
    "  validation_data=test_set,\n",
    "  epochs=50,\n",
    "  steps_per_epoch=len(training_set),\n",
    "  validation_steps=len(test_set)\n",
    ")"
   ]
  },
  {
   "cell_type": "code",
   "execution_count": null,
   "metadata": {},
   "outputs": [],
   "source": []
  },
  {
   "cell_type": "code",
   "execution_count": 19,
   "metadata": {},
   "outputs": [
    {
     "data": {
      "image/png": "[encoded data removed]",
      "text/plain": [
       "<Figure size 432x288 with 1 Axes>"
      ]
     },
     "metadata": {
      "needs_background": "light"
     },
     "output_type": "display_data"
    },
    {
     "data": {
      "image/png": "[encoded data removed]",
      "text/plain": [
       "<Figure size 432x288 with 1 Axes>"
      ]
     },
     "metadata": {
      "needs_background": "light"
     },
     "output_type": "display_data"
    },
    {
     "data": {
      "text/plain": [
       "<Figure size 432x288 with 0 Axes>"
      ]
     },
     "metadata": {},
     "output_type": "display_data"
    }
   ],
   "source": [
    "# plot the loss\n",
    "plt.plot(r.history['loss'], label='train loss')\n",
    "plt.plot(r.history['val_loss'], label='val loss')\n",
    "plt.legend()\n",
    "plt.show()\n",
    "plt.savefig('LossVal_loss')\n",
    "\n",
    "# plot the accuracy\n",
    "plt.plot(r.history['accuracy'], label='train acc')\n",
    "plt.plot(r.history['val_accuracy'], label='val acc')\n",
    "plt.legend()\n",
    "plt.show()\n",
    "plt.savefig('AccVal_acc')"
   ]
  },
  {
   "cell_type": "code",
   "execution_count": 20,
   "metadata": {},
   "outputs": [],
   "source": [
    "# save it as a h5 file\n",
    "\n",
    "\n",
    "from tensorflow.keras.models import load_model\n",
    "\n",
    "model.save('model_vgg19.h5')"
   ]
  },
  {
   "cell_type": "code",
   "execution_count": null,
   "metadata": {},
   "outputs": [],
   "source": []
  },
  {
   "cell_type": "code",
   "execution_count": 21,
   "metadata": {},
   "outputs": [],
   "source": [
    "\n",
    "y_pred = model.predict(test_set)\n"
   ]
  },
  {
   "cell_type": "code",
   "execution_count": 22,
   "metadata": {},
   "outputs": [
    {
     "data": {
      "text/plain": [
       "array([[9.99962091e-01, 3.79124212e-05],\n",
       "       [3.81728029e-03, 9.96182740e-01],\n",
       "       [9.86906767e-01, 1.30931679e-02],\n",
       "       [9.59114283e-02, 9.04088557e-01],\n",
       "       [9.99938250e-01, 6.17933983e-05],\n",
       "       [5.06597199e-03, 9.94934022e-01],\n",
       "       [9.98793840e-01, 1.20611745e-03],\n",
       "       [9.99177158e-01, 8.22789967e-04],\n",
       "       [9.10661276e-03, 9.90893364e-01],\n",
       "       [9.99999881e-01, 1.75717190e-07],\n",
       "       [1.59924049e-02, 9.84007657e-01],\n",
       "       [9.99028206e-01, 9.71761707e-04],\n",
       "       [4.88817841e-02, 9.51118231e-01],\n",
       "       [3.87048274e-02, 9.61295187e-01],\n",
       "       [9.99997377e-01, 2.59255648e-06],\n",
       "       [1.16021298e-02, 9.88397896e-01],\n",
       "       [9.91501287e-03, 9.90085006e-01],\n",
       "       [1.00000000e+00, 2.20340524e-09],\n",
       "       [1.55370757e-02, 9.84462976e-01],\n",
       "       [9.99731719e-01, 2.68318574e-04],\n",
       "       [2.90704258e-02, 9.70929563e-01],\n",
       "       [9.99205768e-01, 7.94312160e-04],\n",
       "       [9.99994040e-01, 5.94993980e-06],\n",
       "       [7.45287612e-02, 9.25471187e-01],\n",
       "       [9.98462081e-01, 1.53788633e-03],\n",
       "       [9.60366707e-03, 9.90396261e-01],\n",
       "       [2.42618355e-03, 9.97573793e-01],\n",
       "       [2.53718961e-02, 9.74628150e-01],\n",
       "       [9.97444153e-01, 2.55586626e-03],\n",
       "       [9.99956131e-01, 4.39246323e-05],\n",
       "       [1.27203483e-02, 9.87279654e-01],\n",
       "       [9.99836445e-01, 1.63471239e-04],\n",
       "       [1.64157934e-02, 9.83584225e-01],\n",
       "       [9.99932885e-01, 6.71118250e-05],\n",
       "       [9.95705426e-01, 4.29462222e-03],\n",
       "       [9.99542713e-01, 4.57321847e-04],\n",
       "       [9.99044359e-01, 9.55600757e-04],\n",
       "       [9.99488115e-01, 5.11816703e-04],\n",
       "       [9.99945641e-01, 5.43585265e-05],\n",
       "       [3.87057215e-02, 9.61294293e-01],\n",
       "       [9.99470770e-01, 5.29220677e-04],\n",
       "       [9.99279201e-01, 7.20855955e-04],\n",
       "       [9.99361694e-01, 6.38299272e-04],\n",
       "       [2.89203729e-02, 9.71079588e-01],\n",
       "       [1.09151110e-01, 8.90848875e-01],\n",
       "       [1.96623104e-03, 9.98033822e-01],\n",
       "       [5.72856784e-01, 4.27143216e-01],\n",
       "       [9.99985814e-01, 1.41704832e-05],\n",
       "       [9.98778522e-01, 1.22143899e-03],\n",
       "       [9.91274565e-02, 9.00872529e-01],\n",
       "       [9.97791290e-01, 2.20865034e-03],\n",
       "       [9.99624372e-01, 3.75634787e-04],\n",
       "       [3.85925807e-02, 9.61407483e-01],\n",
       "       [9.99994040e-01, 6.01496822e-06],\n",
       "       [9.99999642e-01, 3.52369796e-07],\n",
       "       [1.30084599e-03, 9.98699188e-01],\n",
       "       [9.48177814e-01, 5.18221706e-02],\n",
       "       [2.76774138e-01, 7.23225832e-01],\n",
       "       [9.98900056e-01, 1.09993597e-03],\n",
       "       [9.99925733e-01, 7.42525517e-05],\n",
       "       [9.99998808e-01, 1.17153218e-06],\n",
       "       [4.95043322e-02, 9.50495660e-01],\n",
       "       [1.51294777e-02, 9.84870493e-01],\n",
       "       [1.00000000e+00, 3.10084250e-11],\n",
       "       [1.13699280e-01, 8.86300743e-01],\n",
       "       [1.18950931e-02, 9.88104939e-01],\n",
       "       [9.99483466e-01, 5.16497937e-04],\n",
       "       [3.50007601e-02, 9.64999199e-01],\n",
       "       [9.98690069e-01, 1.30998995e-03],\n",
       "       [5.72094582e-02, 9.42790568e-01],\n",
       "       [2.64667533e-03, 9.97353315e-01],\n",
       "       [2.61039212e-02, 9.73896086e-01],\n",
       "       [6.31051779e-01, 3.68948162e-01],\n",
       "       [9.99953032e-01, 4.69913575e-05],\n",
       "       [9.98402297e-01, 1.59765140e-03],\n",
       "       [9.99972224e-01, 2.77178478e-05],\n",
       "       [9.98819053e-01, 1.18087686e-03],\n",
       "       [5.19577228e-03, 9.94804204e-01],\n",
       "       [3.49758975e-02, 9.65024114e-01],\n",
       "       [8.58631730e-01, 1.41368270e-01],\n",
       "       [7.86781460e-02, 9.21321869e-01],\n",
       "       [9.99320269e-01, 6.79746096e-04],\n",
       "       [9.99951124e-01, 4.89017875e-05],\n",
       "       [1.00000000e+00, 3.95162978e-08],\n",
       "       [9.99990225e-01, 9.72671387e-06],\n",
       "       [1.00000000e+00, 1.77527393e-09],\n",
       "       [9.93752182e-01, 6.24776306e-03],\n",
       "       [9.99878287e-01, 1.21641715e-04],\n",
       "       [9.99999881e-01, 1.66954408e-07],\n",
       "       [9.90101576e-01, 9.89843253e-03],\n",
       "       [1.08483052e-02, 9.89151716e-01],\n",
       "       [9.61193219e-02, 9.03880656e-01],\n",
       "       [9.99989986e-01, 9.98937048e-06],\n",
       "       [1.65750571e-02, 9.83424962e-01],\n",
       "       [5.31564327e-03, 9.94684398e-01],\n",
       "       [1.00000000e+00, 8.37273184e-09],\n",
       "       [9.99968410e-01, 3.16314763e-05],\n",
       "       [9.49360244e-03, 9.90506470e-01],\n",
       "       [9.99780834e-01, 2.19147449e-04],\n",
       "       [9.99625564e-01, 3.74369236e-04],\n",
       "       [9.99701917e-01, 2.98057304e-04],\n",
       "       [9.97453034e-01, 2.54690694e-03],\n",
       "       [3.41446072e-01, 6.58553958e-01],\n",
       "       [9.97436225e-01, 2.56379577e-03],\n",
       "       [6.69376366e-03, 9.93306220e-01],\n",
       "       [6.22590244e-01, 3.77409726e-01],\n",
       "       [9.98769820e-01, 1.23009866e-03],\n",
       "       [9.60943382e-03, 9.90390539e-01],\n",
       "       [4.53164242e-03, 9.95468378e-01],\n",
       "       [6.18691184e-03, 9.93813038e-01],\n",
       "       [8.32187295e-01, 1.67812690e-01],\n",
       "       [9.74824071e-01, 2.51758806e-02],\n",
       "       [5.35168529e-01, 4.64831501e-01],\n",
       "       [8.71047843e-03, 9.91289496e-01],\n",
       "       [1.00000000e+00, 2.89912171e-14],\n",
       "       [1.47981616e-03, 9.98520195e-01],\n",
       "       [2.98633520e-02, 9.70136702e-01],\n",
       "       [9.99475181e-01, 5.24880714e-04],\n",
       "       [9.99999881e-01, 1.36225751e-07],\n",
       "       [9.48292851e-01, 5.17071560e-02],\n",
       "       [9.99621272e-01, 3.78739205e-04],\n",
       "       [9.99855757e-01, 1.44269507e-04],\n",
       "       [9.95174468e-01, 4.82558459e-03],\n",
       "       [9.99998927e-01, 1.05288336e-06],\n",
       "       [1.00000000e+00, 2.51936090e-08],\n",
       "       [9.98012781e-01, 1.98723515e-03],\n",
       "       [1.00000000e+00, 7.38699249e-13],\n",
       "       [3.28231663e-01, 6.71768367e-01],\n",
       "       [9.04591102e-03, 9.90954101e-01],\n",
       "       [1.35434344e-01, 8.64565611e-01],\n",
       "       [9.94554162e-01, 5.44584682e-03],\n",
       "       [5.33697486e-04, 9.99466360e-01],\n",
       "       [1.96169764e-01, 8.03830206e-01],\n",
       "       [6.30298197e-01, 3.69701773e-01]], dtype=float32)"
      ]
     },
     "execution_count": 22,
     "metadata": {},
     "output_type": "execute_result"
    }
   ],
   "source": [
    "y_pred"
   ]
  },
  {
   "cell_type": "code",
   "execution_count": 23,
   "metadata": {},
   "outputs": [],
   "source": [
    "import numpy as np\n",
    "y_pred = np.argmax(y_pred, axis=1)"
   ]
  },
  {
   "cell_type": "code",
   "execution_count": 24,
   "metadata": {},
   "outputs": [
    {
     "data": {
      "text/plain": [
       "array([0, 1, 0, 1, 0, 1, 0, 0, 1, 0, 1, 0, 1, 1, 0, 1, 1, 0, 1, 0, 1, 0,\n",
       "       0, 1, 0, 1, 1, 1, 0, 0, 1, 0, 1, 0, 0, 0, 0, 0, 0, 1, 0, 0, 0, 1,\n",
       "       1, 1, 0, 0, 0, 1, 0, 0, 1, 0, 0, 1, 0, 1, 0, 0, 0, 1, 1, 0, 1, 1,\n",
       "       0, 1, 0, 1, 1, 1, 0, 0, 0, 0, 0, 1, 1, 0, 1, 0, 0, 0, 0, 0, 0, 0,\n",
       "       0, 0, 1, 1, 0, 1, 1, 0, 0, 1, 0, 0, 0, 0, 1, 0, 1, 0, 0, 1, 1, 1,\n",
       "       0, 0, 0, 1, 0, 1, 1, 0, 0, 0, 0, 0, 0, 0, 0, 0, 0, 1, 1, 1, 0, 1,\n",
       "       1, 0])"
      ]
     },
     "execution_count": 24,
     "metadata": {},
     "output_type": "execute_result"
    }
   ],
   "source": [
    "y_pred"
   ]
  },
  {
   "cell_type": "code",
   "execution_count": null,
   "metadata": {},
   "outputs": [],
   "source": []
  },
  {
   "cell_type": "code",
   "execution_count": 25,
   "metadata": {},
   "outputs": [],
   "source": [
    "from tensorflow.keras.models import load_model\n",
    "from tensorflow.keras.preprocessing import image"
   ]
  },
  {
   "cell_type": "code",
   "execution_count": 26,
   "metadata": {},
   "outputs": [],
   "source": [
    "model=load_model('model_vgg19.h5')"
   ]
  },
  {
   "cell_type": "code",
   "execution_count": null,
   "metadata": {},
   "outputs": [],
   "source": []
  },
  {
   "cell_type": "code",
   "execution_count": 29,
   "metadata": {},
   "outputs": [],
   "source": [
    "img=image.load_img('Dataset/Test/Uninfected/2.png',target_size=(224,224))\n",
    "\n"
   ]
  },
  {
   "cell_type": "code",
   "execution_count": 30,
   "metadata": {},
   "outputs": [
    {
     "data": {
      "text/plain": [
       "array([[[0., 0., 0.],\n",
       "        [0., 0., 0.],\n",
       "        [0., 0., 0.],\n",
       "        ...,\n",
       "        [0., 0., 0.],\n",
       "        [0., 0., 0.],\n",
       "        [0., 0., 0.]],\n",
       "\n",
       "       [[0., 0., 0.],\n",
       "        [0., 0., 0.],\n",
       "        [0., 0., 0.],\n",
       "        ...,\n",
       "        [0., 0., 0.],\n",
       "        [0., 0., 0.],\n",
       "        [0., 0., 0.]],\n",
       "\n",
       "       [[0., 0., 0.],\n",
       "        [0., 0., 0.],\n",
       "        [0., 0., 0.],\n",
       "        ...,\n",
       "        [0., 0., 0.],\n",
       "        [0., 0., 0.],\n",
       "        [0., 0., 0.]],\n",
       "\n",
       "       ...,\n",
       "\n",
       "       [[0., 0., 0.],\n",
       "        [0., 0., 0.],\n",
       "        [0., 0., 0.],\n",
       "        ...,\n",
       "        [0., 0., 0.],\n",
       "        [0., 0., 0.],\n",
       "        [0., 0., 0.]],\n",
       "\n",
       "       [[0., 0., 0.],\n",
       "        [0., 0., 0.],\n",
       "        [0., 0., 0.],\n",
       "        ...,\n",
       "        [0., 0., 0.],\n",
       "        [0., 0., 0.],\n",
       "        [0., 0., 0.]],\n",
       "\n",
       "       [[0., 0., 0.],\n",
       "        [0., 0., 0.],\n",
       "        [0., 0., 0.],\n",
       "        ...,\n",
       "        [0., 0., 0.],\n",
       "        [0., 0., 0.],\n",
       "        [0., 0., 0.]]], dtype=float32)"
      ]
     },
     "execution_count": 30,
     "metadata": {},
     "output_type": "execute_result"
    }
   ],
   "source": [
    "x=image.img_to_array(img)\n",
    "x"
   ]
  },
  {
   "cell_type": "code",
   "execution_count": 31,
   "metadata": {},
   "outputs": [
    {
     "data": {
      "text/plain": [
       "(224, 224, 3)"
      ]
     },
     "execution_count": 31,
     "metadata": {},
     "output_type": "execute_result"
    }
   ],
   "source": [
    "x.shape"
   ]
  },
  {
   "cell_type": "code",
   "execution_count": 32,
   "metadata": {},
   "outputs": [],
   "source": [
    "x=x/255"
   ]
  },
  {
   "cell_type": "code",
   "execution_count": 33,
   "metadata": {},
   "outputs": [
    {
     "data": {
      "text/plain": [
       "(1, 224, 224, 3)"
      ]
     },
     "execution_count": 33,
     "metadata": {},
     "output_type": "execute_result"
    }
   ],
   "source": [
    "x=np.expand_dims(x,axis=0)\n",
    "img_data=preprocess_input(x)\n",
    "img_data.shape"
   ]
  },
  {
   "cell_type": "code",
   "execution_count": 34,
   "metadata": {},
   "outputs": [
    {
     "data": {
      "text/plain": [
       "array([[1., 0.]], dtype=float32)"
      ]
     },
     "execution_count": 34,
     "metadata": {},
     "output_type": "execute_result"
    }
   ],
   "source": [
    "model.predict(img_data)"
   ]
  },
  {
   "cell_type": "code",
   "execution_count": 35,
   "metadata": {},
   "outputs": [],
   "source": [
    "a=np.argmax(model.predict(img_data), axis=1)"
   ]
  },
  {
   "cell_type": "code",
   "execution_count": 36,
   "metadata": {},
   "outputs": [
    {
     "name": "stdout",
     "output_type": "stream",
     "text": [
      "Infected\n"
     ]
    }
   ],
   "source": [
    "if(a==1):\n",
    "    print(\"Uninfected\")\n",
    "else:\n",
    "    print(\"Infected\")"
   ]
  },
  {
   "cell_type": "code",
   "execution_count": null,
   "metadata": {},
   "outputs": [],
   "source": []
  },
  {
   "cell_type": "code",
   "execution_count": null,
   "metadata": {},
   "outputs": [],
   "source": []
  }
 ],
 "metadata": {
  "kernelspec": {
   "display_name": "Python 3",
   "language": "python",
   "name": "python3"
  },
  "language_info": {
   "codemirror_mode": {
    "name": "ipython",
    "version": 3
   },
   "file_extension": ".py",
   "mimetype": "text/x-python",
   "name": "python",
   "nbconvert_exporter": "python",
   "pygments_lexer": "ipython3",
   "version": "3.8.8"
  }
 },
 "nbformat": 4,
 "nbformat_minor": 2
}
